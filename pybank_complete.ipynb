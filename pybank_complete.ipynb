{
 "cells": [
  {
   "cell_type": "code",
   "execution_count": 2,
   "metadata": {},
   "outputs": [
    {
     "name": "stderr",
     "output_type": "stream",
     "text": [
      "C:\\Users\\prade\\anaconda3\\envs\\pyvizenv\\lib\\site-packages\\numpy\\_distributor_init.py:32: UserWarning: loaded more than 1 DLL from .libs:\n",
      "C:\\Users\\prade\\anaconda3\\envs\\pyvizenv\\lib\\site-packages\\numpy\\.libs\\libopenblas.NOIJJG62EMASZI6NYURL6JBKM4EVBGM7.gfortran-win_amd64.dll\n",
      "C:\\Users\\prade\\anaconda3\\envs\\pyvizenv\\lib\\site-packages\\numpy\\.libs\\libopenblas.XWYDX2IKJW2NMTWSFYNGFUWKQU3LYTCZ.gfortran-win_amd64.dll\n",
      "  stacklevel=1)\n"
     ]
    }
   ],
   "source": [
    "import pandas as pd"
   ]
  },
  {
   "cell_type": "markdown",
   "metadata": {},
   "source": [
    "## Analysis with Pandas"
   ]
  },
  {
   "cell_type": "code",
   "execution_count": 5,
   "metadata": {},
   "outputs": [
    {
     "data": {
      "text/html": [
       "<div>\n",
       "<style scoped>\n",
       "    .dataframe tbody tr th:only-of-type {\n",
       "        vertical-align: middle;\n",
       "    }\n",
       "\n",
       "    .dataframe tbody tr th {\n",
       "        vertical-align: top;\n",
       "    }\n",
       "\n",
       "    .dataframe thead th {\n",
       "        text-align: right;\n",
       "    }\n",
       "</style>\n",
       "<table border=\"1\" class=\"dataframe\">\n",
       "  <thead>\n",
       "    <tr style=\"text-align: right;\">\n",
       "      <th></th>\n",
       "      <th>Date</th>\n",
       "      <th>Profit/Losses</th>\n",
       "    </tr>\n",
       "  </thead>\n",
       "  <tbody>\n",
       "    <tr>\n",
       "      <th>0</th>\n",
       "      <td>Jan-2010</td>\n",
       "      <td>867884</td>\n",
       "    </tr>\n",
       "    <tr>\n",
       "      <th>1</th>\n",
       "      <td>Feb-2010</td>\n",
       "      <td>984655</td>\n",
       "    </tr>\n",
       "    <tr>\n",
       "      <th>2</th>\n",
       "      <td>Mar-2010</td>\n",
       "      <td>322013</td>\n",
       "    </tr>\n",
       "    <tr>\n",
       "      <th>3</th>\n",
       "      <td>Apr-2010</td>\n",
       "      <td>-69417</td>\n",
       "    </tr>\n",
       "    <tr>\n",
       "      <th>4</th>\n",
       "      <td>May-2010</td>\n",
       "      <td>310503</td>\n",
       "    </tr>\n",
       "  </tbody>\n",
       "</table>\n",
       "</div>"
      ],
      "text/plain": [
       "       Date  Profit/Losses\n",
       "0  Jan-2010         867884\n",
       "1  Feb-2010         984655\n",
       "2  Mar-2010         322013\n",
       "3  Apr-2010         -69417\n",
       "4  May-2010         310503"
      ]
     },
     "execution_count": 5,
     "metadata": {},
     "output_type": "execute_result"
    }
   ],
   "source": [
    "df = pd.read_csv('budget_data.csv')\n",
    "df.head()"
   ]
  },
  {
   "cell_type": "code",
   "execution_count": 6,
   "metadata": {},
   "outputs": [],
   "source": [
    "# for average of change\n",
    "df['shifted_column'] = df['Profit/Losses'].shift(1)\n",
    "df['change'] = df['shifted_column'] - df['Profit/Losses']\n",
    "\n",
    "# for greatest Increase in profit \n",
    "max_increase = df[df['Profit/Losses'] == df['Profit/Losses'].max()]\n",
    "\n",
    "# for greatest decrease in profit\n",
    "max_decrease = df[df['Profit/Losses'] == df['Profit/Losses'].min()]"
   ]
  },
  {
   "cell_type": "code",
   "execution_count": 7,
   "metadata": {},
   "outputs": [
    {
     "name": "stdout",
     "output_type": "stream",
     "text": [
      "Financial Analysis\n",
      "-------------------------\n",
      "Total Months: 86\n",
      "Total: $38382578\n",
      "Average  Change: $-2315.12\n",
      "Greatest Increase in Profits: Feb-2012 ($1926159.0)\n",
      "Greatest Decrease in Profits: Sep-2013 ($-2196167.0)\n"
     ]
    }
   ],
   "source": [
    "print(\"Financial Analysis\")\n",
    "print(\"-\"*25)\n",
    "print(\"Total Months:\", len(df))\n",
    "print(\"Total: ${}\".format(df['Profit/Losses'].sum()))\n",
    "print(\"Average  Change: ${:.2f}\".format(-df['change'].mean()))\n",
    "print(\"Greatest Increase in Profits: {} (${})\".format(max_increase['Date'].values[0], -max_increase['change'].values[0]))\n",
    "print(\"Greatest Decrease in Profits: {} (${})\".format(max_decrease['Date'].values[0], -max_decrease['change'].values[0]))"
   ]
  },
  {
   "cell_type": "code",
   "execution_count": 8,
   "metadata": {},
   "outputs": [
    {
     "name": "stdout",
     "output_type": "stream",
     "text": [
      "Data Exported to file 'financial_Analysis_with_pandas.txt'\n"
     ]
    }
   ],
   "source": [
    "# Write to file\n",
    "\n",
    "with open(\"financial_Analysis_with_pandas.txt\", 'w') as file:\n",
    "    file.write(\"Financial Analysis\\n\")\n",
    "    file.write(\"-\"*25 + '\\n')\n",
    "    file.write(\"Total Months:\" + str(len(df)) +\"\\n\")\n",
    "    file.write(\"Total: ${}\\n\".format(df['Profit/Losses'].sum()))\n",
    "    file.write(\"Average  Change: ${:.2f}\\n\".format(df['change'].mean()))\n",
    "    file.write(\"Greatest Increase in Profits: {} (${})\\n\".format(max_increase['Date'].values[0], max_increase['Profit/Losses'].values[0]))\n",
    "    file.write(\"Greatest Decrease in Profits: {} (${})\\n\".format(max_decrease['Date'].values[0], max_decrease['Profit/Losses'].values[0]))\n",
    "    \n",
    "    print(\"Data Exported to file 'financial_Analysis_with_pandas.txt'\")"
   ]
  },
  {
   "cell_type": "markdown",
   "metadata": {},
   "source": [
    "## Analysis without using pandas or any imported library"
   ]
  },
  {
   "cell_type": "code",
   "execution_count": 9,
   "metadata": {},
   "outputs": [],
   "source": [
    "with open('budget_data.csv') as file:\n",
    "    data = []\n",
    "    for line in file.readlines():\n",
    "        line = line.strip('\\n').split(',')\n",
    "        data.append(line)\n",
    "# remove columns name\n",
    "data = data[1:]"
   ]
  },
  {
   "cell_type": "code",
   "execution_count": 10,
   "metadata": {},
   "outputs": [],
   "source": [
    "# only profit/loss column \n",
    "months = [months[0] for months in data]\n",
    "profit_loss = [int(profit_loss[1]) for profit_loss in data]\n",
    "\n",
    "\n",
    "total_months = len(data)\n",
    "total = sum(profit_loss)  # sum of all the profit/loss column values\n",
    "\n",
    "# getting change\n",
    "average_change = [int(data[i+1][1])-int(data[i][1]) for i in range(len(data)-1)]\n",
    "\n",
    "# max_increase in profits and the month\n",
    "max_increase = max(average_change)\n",
    "max_increase_month = months[average_change.index(max_increase)+1]\n",
    "\n",
    "# max_decrease in profits and the month\n",
    "max_decrease = min(average_change)\n",
    "max_decrease_month = months[average_change.index(max_decrease)+1]\n",
    "\n",
    "# getting average change\n",
    "average_change = sum(average_change)/len(average_change)"
   ]
  },
  {
   "cell_type": "code",
   "execution_count": 11,
   "metadata": {},
   "outputs": [
    {
     "name": "stdout",
     "output_type": "stream",
     "text": [
      "Financial Analysis\n",
      "-------------------------\n",
      "Total Months: 86\n",
      "Total: $38382578\n",
      "Average  Change: $-2315.12\n",
      "Greatest Increase in Profits: Feb-2012 ($1926159)\n",
      "Greatest Decrease in Profits: Sep-2013 ($-2196167)\n"
     ]
    }
   ],
   "source": [
    "print(\"Financial Analysis\")\n",
    "print(\"-\"*25)\n",
    "print(\"Total Months:\", total_months)\n",
    "print(\"Total: ${}\".format(total))\n",
    "print(\"Average  Change: ${:.2f}\".format(average_change))\n",
    "print(\"Greatest Increase in Profits: {} (${})\".format(max_increase_month, max_increase))\n",
    "print(\"Greatest Decrease in Profits: {} (${})\".format(max_decrease_month, max_decrease))"
   ]
  },
  {
   "cell_type": "code",
   "execution_count": 12,
   "metadata": {},
   "outputs": [
    {
     "name": "stdout",
     "output_type": "stream",
     "text": [
      "Data Exported to file 'financial_Analysis_without_pandas.txt'\n"
     ]
    }
   ],
   "source": [
    "# Write to file\n",
    "\n",
    "with open(\"financial_Analysis_without_pandas.txt\", 'w') as file:\n",
    "    file.write(\"Financial Analysis\\n\")\n",
    "    file.write(\"-\"*25+\"\\n\")\n",
    "    file.write(\"Total Months: {}\\n\".format(total_months))\n",
    "    file.write(\"Total: ${}\\n\".format(total))\n",
    "    file.write(\"Average  Change: ${:.2f}\\n\".format(average_change))\n",
    "    file.write(\"Greatest Increase in Profits: {} (${})\\n\".format(max_increase_month, max_increase))\n",
    "    file.write(\"Greatest Decrease in Profits: {} (${})\\n\".format(max_decrease_month, max_decrease))\n",
    "    \n",
    "    print(\"Data Exported to file 'financial_Analysis_without_pandas.txt'\")"
   ]
  },
  {
   "cell_type": "code",
   "execution_count": null,
   "metadata": {},
   "outputs": [],
   "source": []
  }
 ],
 "metadata": {
  "kernelspec": {
   "display_name": "Python 3",
   "language": "python",
   "name": "python3"
  },
  "language_info": {
   "codemirror_mode": {
    "name": "ipython",
    "version": 3
   },
   "file_extension": ".py",
   "mimetype": "text/x-python",
   "name": "python",
   "nbconvert_exporter": "python",
   "pygments_lexer": "ipython3",
   "version": "3.7.10"
  }
 },
 "nbformat": 4,
 "nbformat_minor": 4
}
